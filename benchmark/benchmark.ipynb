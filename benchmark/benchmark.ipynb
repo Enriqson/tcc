{
 "cells": [
  {
   "cell_type": "code",
   "execution_count": null,
   "metadata": {},
   "outputs": [],
   "source": [
    "\n",
    "import awswrangler as wr\n",
    "from pyathena import connect\n",
    "import os\n",
    "import boto3\n",
    "import json"
   ]
  },
  {
   "cell_type": "markdown",
   "metadata": {},
   "source": [
    "## Constants and variable to store the metrics"
   ]
  },
  {
   "cell_type": "code",
   "execution_count": null,
   "metadata": {},
   "outputs": [],
   "source": [
    "METRICS = {\n",
    "    \"hive\":{\n",
    "        \"load_full\":{},\n",
    "        \"queries_full\":{},\n",
    "        \"queries_incremental\":{},\n",
    "    },\n",
    "    \"iceberg\":{\n",
    "        \"load_full\":{},\n",
    "        \"queries_full\":{},\n",
    "        \"queries_incremental\":{},\n",
    "        \"queries_rewrite\":{}\n",
    "    }\n",
    "}"
   ]
  },
  {
   "cell_type": "code",
   "execution_count": null,
   "metadata": {},
   "outputs": [],
   "source": [
    "S3_BASE_PATH = \"{{athena_bucket}}\"\n",
    "ATHENA_SCHEMA='hive_test'\n",
    "TABLE_NAMES = [\"customer\",\"lineorder\",\"part\",\"supplier\",\"date\"]\n",
    "TABLE_TYPES = [\"iceberg\",\"hive\"]\n",
    "INCREMENTAL_DATASET_COUNT = 100\n",
    "NUM_QUERIES_TO_RUN = 30\n",
    "SF = \"s100\""
   ]
  },
  {
   "cell_type": "markdown",
   "metadata": {},
   "source": [
    "## Cleaning all tables in the athena schema and in the s3 paths"
   ]
  },
  {
   "cell_type": "code",
   "execution_count": null,
   "metadata": {},
   "outputs": [],
   "source": [
    "#clear s3 folders of the experimental tables\n",
    "wr.s3.delete_objects(f'{S3_BASE_PATH}/iceberg/', use_threads=True)\n",
    "wr.s3.delete_objects(f'{S3_BASE_PATH}/hive/', use_threads=True)"
   ]
  },
  {
   "cell_type": "code",
   "execution_count": null,
   "metadata": {},
   "outputs": [],
   "source": [
    "#delete all tables in schema\n",
    "session = boto3.session.Session(region_name='us-east-2')\n",
    "tables_to_delete = list(wr.catalog.get_tables(database=ATHENA_SCHEMA, boto3_session=session))\n",
    "for t in tables_to_delete:\n",
    "    wr.catalog.delete_table_if_exists(database=ATHENA_SCHEMA, table=t[\"Name\"], boto3_session=session)"
   ]
  },
  {
   "cell_type": "markdown",
   "metadata": {},
   "source": [
    "## Utils"
   ]
  },
  {
   "cell_type": "code",
   "execution_count": null,
   "metadata": {},
   "outputs": [],
   "source": [
    "def get_metrics_from_cursor(cursor):\n",
    "    time = cursor.total_execution_time_in_millis - cursor.query_queue_time_in_millis\n",
    "    data_scanned = cursor.data_scanned_in_bytes\n",
    "    planning_time = cursor.query_planning_time_in_millis\n",
    "    execution_time = cursor.engine_execution_time_in_millis\n",
    "    return {\"time\": time, \"data_scanned\": data_scanned, \"planning_time\": planning_time, \"execution_time\": execution_time}\n",
    "\n",
    "athena_cursor = connect(s3_staging_dir=f\"{S3_BASE_PATH}/athena_staging_dir/\",\n",
    "                 region_name=\"us-east-2\").cursor()\n",
    "def execute_query(query):\n",
    "    res =  athena_cursor.execute(query)\n",
    "    return get_metrics_from_cursor(res)"
   ]
  },
  {
   "cell_type": "code",
   "execution_count": null,
   "metadata": {},
   "outputs": [],
   "source": [
    "ssb_queries = []\n",
    "for query in os.listdir(\"queries/ssb\"):\n",
    "    query_name = query.replace(\".sql\",\"\")\n",
    "    with open(\"queries/ssb/\"+query, 'r') as file:\n",
    "        query_string = file.read()\n",
    "    ssb_queries.append((query_name,query_string))"
   ]
  },
  {
   "cell_type": "code",
   "execution_count": null,
   "metadata": {},
   "outputs": [],
   "source": [
    "def get_raw_full_external_table_name(table_name):\n",
    "    return f\"{ATHENA_SCHEMA}.full_external_{table_name}_{SF}\"\n",
    "\n",
    "def get_raw_incremental_external_table_name(table_name, n):\n",
    "    return f\"{ATHENA_SCHEMA}.incremental_external_{table_name}_{SF}_{n}\"\n",
    "\n",
    "def get_iceberg_table_name(table_name):\n",
    "    return f\"{ATHENA_SCHEMA}.iceberg_{table_name}\"\n",
    "\n",
    "def get_hive_table_name(table_name):\n",
    "    return f\"{ATHENA_SCHEMA}.hive_{table_name}\"\n",
    "\n",
    "def get_raw_full_external_table_location(table_name):\n",
    "    return f\"{S3_BASE_PATH}/{SF}/{table_name}/full/\"\n",
    "\n",
    "def get_raw_incremental_external_table_location(table_name, n):\n",
    "    return f\"{S3_BASE_PATH}/{SF}/{table_name}/incremental/{n}/\"\n",
    "\n",
    "def get_iceberg_table_location(table_name):\n",
    "    return f\"{S3_BASE_PATH}/iceberg/{table_name}\"\n",
    "\n",
    "def get_hive_table_location(table_name):\n",
    "    return f\"{S3_BASE_PATH}/hive/{table_name}\"\n"
   ]
  },
  {
   "cell_type": "code",
   "execution_count": null,
   "metadata": {},
   "outputs": [],
   "source": [
    "CREATE_EXTERNAL_TABLE_QUERIES = {\n",
    "    \"customer\": \"\"\"\n",
    "        CREATE EXTERNAL TABLE {table_name}\n",
    "        (\n",
    "                C_CUSTKEY       BigInt,\n",
    "                C_NAME          varchar(25),\n",
    "                C_ADDRESS       varchar(25),\n",
    "                C_CITY          varchar(10), \n",
    "                C_NATION        varchar(25), \n",
    "                C_REGION        varchar(12), \n",
    "                C_PHONE         varchar(15),\n",
    "                C_MKTSEGMENT    varchar(10) \n",
    "        )\n",
    "        STORED AS PARQUET\n",
    "        LOCATION  '{location}' \n",
    "    \"\"\",\n",
    "    \"lineorder\": \"\"\"\n",
    "        CREATE EXTERNAL TABLE {table_name}\n",
    "        (\n",
    "            LO_ORDERKEY             BigInt, \n",
    "            LO_LINENUMBER           Int, \n",
    "            LO_CUSTKEY              BigInt,\n",
    "            LO_PARTKEY              BigInt, \n",
    "            LO_SUPPKEY              BigInt,\n",
    "            LO_ORDERDATE            Date,\n",
    "            LO_ORDERPRIORITY        varchar(15), \n",
    "            LO_SHIPPRIORITY         Int, \n",
    "            LO_QUANTITY             Int, \n",
    "            LO_EXTENDEDPRICE        Int, \n",
    "            LO_ORDTOTALPRICE        Int, \n",
    "            LO_DISCOUNT             Int,\n",
    "            LO_REVENUE              int, \n",
    "            LO_SUPPLYCOST           BigInt,\n",
    "            LO_TAX                  Int,\n",
    "            LO_COMMITDATE           Date,\n",
    "            LO_SHIPMODE             varchar(10)\n",
    "        )\n",
    "        STORED AS PARQUET\n",
    "        LOCATION  '{location}' \n",
    "    \"\"\",\n",
    "    \"part\": \"\"\"\n",
    "        CREATE EXTERNAL TABLE {table_name}\n",
    "        (\n",
    "            P_PARTKEY       BigInt,\n",
    "            P_NAME          varchar(22),\n",
    "            P_MFGR          varchar(6), \n",
    "            P_CATEGORY      varchar(7), \n",
    "            P_BRAND         varchar(9), \n",
    "            P_COLOR         varchar(11), \n",
    "            P_TYPE          varchar(25),\n",
    "            P_SIZE          Int,\n",
    "            P_CONTAINER     varchar(10) \n",
    "        )\n",
    "        STORED AS PARQUET\n",
    "        LOCATION  '{location}' \n",
    "    \"\"\",\n",
    "    \"supplier\": \"\"\"\n",
    "        CREATE EXTERNAL TABLE {table_name}\n",
    "        (\n",
    "            S_SUPPKEY       BigInt,\n",
    "            S_NAME          varchar(25),\n",
    "            S_ADDRESS       varchar(25),\n",
    "            S_CITY          varchar(10),\n",
    "            S_NATION        varchar(15),\n",
    "            S_REGION        varchar(12),\n",
    "            S_PHONE         varchar(15)\n",
    "        )\n",
    "        STORED AS PARQUET\n",
    "        LOCATION  '{location}' \n",
    "    \"\"\",\n",
    "    \"date\": \"\"\"\n",
    "        CREATE EXTERNAL TABLE {table_name}\n",
    "        (\n",
    "            D_DATEKEY            Date,\n",
    "            D_DATE               char(18),\n",
    "            D_DAYOFWEEK          char(8),\n",
    "            D_MONTH              char(9),\n",
    "            D_YEAR               int,\n",
    "            D_YEARMONTHNUM       bigint,\n",
    "            D_YEARMONTH          char(7),\n",
    "            D_DAYNUMINWEEK       Int,\n",
    "            D_DAYNUMINMONTH      Int,\n",
    "            D_DAYNUMINYEAR       Int,\n",
    "            D_MONTHNUMINYEAR     int,\n",
    "            D_WEEKNUMINYEAR      Int,\n",
    "            D_SELLINGSEASON      varchar(12),\n",
    "            D_LASTDAYINWEEKFL    Int,\n",
    "            D_LASTDAYINMONTHFL   Int,\n",
    "            D_HOLIDAYFL          Int,\n",
    "            D_WEEKDAYFL          Int\n",
    "        )\n",
    "        STORED AS PARQUET\n",
    "        LOCATION  '{location}' \n",
    "    \"\"\"\n",
    "}"
   ]
  },
  {
   "cell_type": "code",
   "execution_count": null,
   "metadata": {},
   "outputs": [],
   "source": [
    "CREATE_HIVE_TABLE_QUERIES = {\n",
    "    \"customer\": \"\"\"\n",
    "        CREATE EXTERNAL TABLE {table_name}\n",
    "        (\n",
    "                C_CUSTKEY       BigInt,\n",
    "                C_NAME          varchar(25),\n",
    "                C_ADDRESS       varchar(25),\n",
    "                C_CITY          varchar(10), \n",
    "                C_NATION        varchar(25), \n",
    "                C_REGION        varchar(12), \n",
    "                C_PHONE         varchar(15),\n",
    "                C_MKTSEGMENT    varchar(10) \n",
    "        )\n",
    "        STORED AS PARQUET\n",
    "        LOCATION  '{location}' \n",
    "    \"\"\",\n",
    "    \"lineorder\": \"\"\"\n",
    "        CREATE EXTERNAL TABLE {table_name}\n",
    "        (\n",
    "            LO_ORDERKEY             BigInt, \n",
    "            LO_LINENUMBER           Int, \n",
    "            LO_CUSTKEY              BigInt,\n",
    "            LO_PARTKEY              BigInt, \n",
    "            LO_SUPPKEY              BigInt,\n",
    "            LO_ORDERDATE            Date,\n",
    "            LO_ORDERPRIORITY        varchar(15), \n",
    "            LO_SHIPPRIORITY         Int, \n",
    "            LO_QUANTITY             Int, \n",
    "            LO_EXTENDEDPRICE        Int, \n",
    "            LO_ORDTOTALPRICE        Int, \n",
    "            LO_DISCOUNT             Int,\n",
    "            LO_REVENUE              int, \n",
    "            LO_SUPPLYCOST           BigInt,\n",
    "            LO_TAX                  Int,\n",
    "            LO_COMMITDATE           Date,\n",
    "            LO_SHIPMODE             varchar(10)\n",
    "        )\n",
    "        STORED AS PARQUET\n",
    "        LOCATION  '{location}' \n",
    "    \"\"\",\n",
    "    \"part\": \"\"\"\n",
    "        CREATE EXTERNAL TABLE {table_name}\n",
    "        (\n",
    "            P_PARTKEY       BigInt,\n",
    "            P_NAME          varchar(22),\n",
    "            P_MFGR          varchar(6), \n",
    "            P_CATEGORY      varchar(7), \n",
    "            P_BRAND         varchar(9), \n",
    "            P_COLOR         varchar(11), \n",
    "            P_TYPE          varchar(25),\n",
    "            P_SIZE          Int,\n",
    "            P_CONTAINER     varchar(10) \n",
    "        )\n",
    "        STORED AS PARQUET\n",
    "        LOCATION  '{location}'  \n",
    "    \"\"\",\n",
    "    \"supplier\": \"\"\"\n",
    "        CREATE EXTERNAL TABLE {table_name}\n",
    "        (\n",
    "            S_SUPPKEY       BigInt,\n",
    "            S_NAME          varchar(25),\n",
    "            S_ADDRESS       varchar(25),\n",
    "            S_CITY          varchar(10),\n",
    "            S_NATION        varchar(15),\n",
    "            S_REGION        varchar(12),\n",
    "            S_PHONE         varchar(15)\n",
    "        )\n",
    "        STORED AS PARQUET\n",
    "        LOCATION  '{location}'  \n",
    "    \"\"\",\n",
    "    \"date\": \"\"\"\n",
    "        CREATE EXTERNAL TABLE {table_name}\n",
    "        (\n",
    "            D_DATEKEY            Date,\n",
    "            D_DATE               char(18),\n",
    "            D_DAYOFWEEK          char(8),\n",
    "            D_MONTH              char(9),\n",
    "            D_YEAR               int,\n",
    "            D_YEARMONTHNUM       bigint,\n",
    "            D_YEARMONTH          char(7),\n",
    "            D_DAYNUMINWEEK       Int,\n",
    "            D_DAYNUMINMONTH      Int,\n",
    "            D_DAYNUMINYEAR       Int,\n",
    "            D_MONTHNUMINYEAR     Int,\n",
    "            D_WEEKNUMINYEAR      Int,\n",
    "            D_SELLINGSEASON      varchar(12),\n",
    "            D_LASTDAYINWEEKFL    Int,\n",
    "            D_LASTDAYINMONTHFL   Int,\n",
    "            D_HOLIDAYFL          Int,\n",
    "            D_WEEKDAYFL          Int\n",
    "        )\n",
    "        STORED AS PARQUET\n",
    "        LOCATION  '{location}' \n",
    "    \"\"\"\n",
    "}"
   ]
  },
  {
   "cell_type": "code",
   "execution_count": null,
   "metadata": {},
   "outputs": [],
   "source": [
    "CREATE_ICEBERG_TABLE_QUERIES = {\n",
    "    \"customer\": \"\"\"\n",
    "        CREATE TABLE {table_name}\n",
    "        (\n",
    "                C_CUSTKEY       BigInt,\n",
    "                C_NAME          string,\n",
    "                C_ADDRESS       string,\n",
    "                C_CITY          string, \n",
    "                C_NATION        string, \n",
    "                C_REGION        string, \n",
    "                C_PHONE         string,\n",
    "                C_MKTSEGMENT    string \n",
    "        )\n",
    "        LOCATION  '{location}' \n",
    "        TBLPROPERTIES ('table_type' = 'ICEBERG');\n",
    "    \"\"\",\n",
    "    \"lineorder\": \"\"\"\n",
    "        CREATE TABLE {table_name}\n",
    "        (\n",
    "            LO_ORDERKEY             BigInt, \n",
    "            LO_LINENUMBER           Int, \n",
    "            LO_CUSTKEY              BigInt,\n",
    "            LO_PARTKEY              BigInt, \n",
    "            LO_SUPPKEY              BigInt,\n",
    "            LO_ORDERDATE            Date,\n",
    "            LO_ORDERPRIORITY        string, \n",
    "            LO_SHIPPRIORITY         Int, \n",
    "            LO_QUANTITY             Int, \n",
    "            LO_EXTENDEDPRICE        Int, \n",
    "            LO_ORDTOTALPRICE        Int, \n",
    "            LO_DISCOUNT             Int,\n",
    "            LO_REVENUE              int, \n",
    "            LO_SUPPLYCOST           BigInt,\n",
    "            LO_TAX                  Int,\n",
    "            LO_COMMITDATE           Date,\n",
    "            LO_SHIPMODE             string\n",
    "        )\n",
    "        LOCATION  '{location}'\n",
    "        TBLPROPERTIES ('table_type' = 'ICEBERG');\n",
    "    \"\"\",\n",
    "    \"part\": \"\"\"\n",
    "        CREATE TABLE {table_name}\n",
    "        (\n",
    "            P_PARTKEY       BigInt,\n",
    "            P_NAME          string,\n",
    "            P_MFGR          string, \n",
    "            P_CATEGORY      string, \n",
    "            P_BRAND         string, \n",
    "            P_COLOR         string, \n",
    "            P_TYPE          string,\n",
    "            P_SIZE          Int,\n",
    "            P_CONTAINER     string \n",
    "        )\n",
    "        LOCATION  '{location}'  \n",
    "        TBLPROPERTIES ('table_type' = 'ICEBERG');\n",
    "    \"\"\",\n",
    "    \"supplier\": \"\"\"\n",
    "        CREATE TABLE {table_name}\n",
    "        (\n",
    "            S_SUPPKEY       BigInt,\n",
    "            S_NAME          string,\n",
    "            S_ADDRESS       string,\n",
    "            S_CITY          string,\n",
    "            S_NATION        string,\n",
    "            S_REGION        string,\n",
    "            S_PHONE         string\n",
    "        )\n",
    "        LOCATION  '{location}'  \n",
    "        TBLPROPERTIES ('table_type' = 'ICEBERG');\n",
    "    \"\"\",\n",
    "    \"date\": \"\"\"\n",
    "        CREATE TABLE {table_name}\n",
    "        (\n",
    "            D_DATEKEY            Date,\n",
    "            D_DATE               string,\n",
    "            D_DAYOFWEEK          string,\n",
    "            D_MONTH              string,\n",
    "            D_YEAR               Int,\n",
    "            D_YEARMONTHNUM       bigint,\n",
    "            D_YEARMONTH          string,\n",
    "            D_DAYNUMINWEEK       Int,\n",
    "            D_DAYNUMINMONTH      Int,\n",
    "            D_DAYNUMINYEAR       Int,\n",
    "            D_MONTHNUMINYEAR     Int,\n",
    "            D_WEEKNUMINYEAR      Int,\n",
    "            D_SELLINGSEASON      string,\n",
    "            D_LASTDAYINWEEKFL    Int,\n",
    "            D_LASTDAYINMONTHFL   Int,\n",
    "            D_HOLIDAYFL          Int,\n",
    "            D_WEEKDAYFL          Int\n",
    "        )\n",
    "        LOCATION  '{location}' \n",
    "        TBLPROPERTIES ('table_type' = 'ICEBERG');\n",
    "    \"\"\"\n",
    "}"
   ]
  },
  {
   "cell_type": "markdown",
   "metadata": {},
   "source": [
    "## Create Raw Tables"
   ]
  },
  {
   "cell_type": "code",
   "execution_count": null,
   "metadata": {},
   "outputs": [],
   "source": [
    "for table_name, query in CREATE_EXTERNAL_TABLE_QUERIES.items():\n",
    "    full_table_name = get_raw_full_external_table_name(table_name)\n",
    "    table_location = get_raw_full_external_table_location(table_name)\n",
    "    formatted_query = query.format(table_name=full_table_name, location=table_location)\n",
    "    execute_query(formatted_query)\n"
   ]
  },
  {
   "cell_type": "code",
   "execution_count": null,
   "metadata": {},
   "outputs": [],
   "source": [
    "#create incremental lineorder tables\n",
    "table_name = \"lineorder\"\n",
    "query = CREATE_EXTERNAL_TABLE_QUERIES[\"lineorder\"]\n",
    "for n in range(INCREMENTAL_DATASET_COUNT):\n",
    "    full_table_name = get_raw_incremental_external_table_name(table_name, n)\n",
    "    table_location = get_raw_incremental_external_table_location(table_name, n)\n",
    "    formatted_query = query.format(table_name=full_table_name, location=table_location)\n",
    "    execute_query(formatted_query)"
   ]
  },
  {
   "cell_type": "markdown",
   "metadata": {},
   "source": [
    "## Create Hive Tables"
   ]
  },
  {
   "cell_type": "code",
   "execution_count": null,
   "metadata": {},
   "outputs": [],
   "source": [
    "for table_name, query in CREATE_HIVE_TABLE_QUERIES.items():\n",
    "    full_table_name = get_hive_table_name(table_name)\n",
    "    table_location = get_hive_table_location(table_name)\n",
    "    formatted_query = query.format(table_name=full_table_name, location=table_location)\n",
    "    execute_query(formatted_query)\n",
    "    \n",
    "    "
   ]
  },
  {
   "cell_type": "markdown",
   "metadata": {},
   "source": [
    "## Load Hive tables with full load"
   ]
  },
  {
   "cell_type": "code",
   "execution_count": null,
   "metadata": {},
   "outputs": [],
   "source": [
    "\n",
    "for table in TABLE_NAMES:\n",
    "    hive_table = get_hive_table_name(table)\n",
    "    full_table = get_raw_full_external_table_name(table)\n",
    "    query = f\"\"\"\n",
    "        INSERT INTO {hive_table} SELECT * FROM {full_table}\n",
    "    \"\"\"\n",
    "        \n",
    "    res = execute_query(query)\n",
    "    METRICS[\"hive\"][\"load_full\"][table] = res\n",
    "        "
   ]
  },
  {
   "cell_type": "markdown",
   "metadata": {},
   "source": [
    "## Run SSB Queries for experiment 1"
   ]
  },
  {
   "cell_type": "code",
   "execution_count": null,
   "metadata": {},
   "outputs": [],
   "source": [
    "date_table = get_hive_table_name(\"date\")\n",
    "supplier_table = get_hive_table_name(\"supplier\")\n",
    "lineorder_table = get_hive_table_name(\"lineorder\")\n",
    "part_table = get_hive_table_name(\"part\")\n",
    "customer_table = get_hive_table_name(\"customer\")"
   ]
  },
  {
   "cell_type": "code",
   "execution_count": null,
   "metadata": {},
   "outputs": [],
   "source": [
    "\n",
    "for run_number in range(NUM_QUERIES_TO_RUN):\n",
    "    METRICS[\"hive\"][\"queries_full\"][run_number] = {}\n",
    "    print(f\"Running query set:{run_number}\" )\n",
    "    for query_name, query in ssb_queries:\n",
    "        formatted_query = query.format(date_table = date_table, \n",
    "                                                supplier_table = supplier_table, \n",
    "                                                lineorder_table = lineorder_table,\n",
    "                                                part_table = part_table, \n",
    "                                                customer_table = customer_table)\n",
    "        \n",
    "        res = execute_query(formatted_query)\n",
    "\n",
    "        METRICS[\"hive\"][\"queries_full\"][run_number][query_name] = res"
   ]
  },
  {
   "cell_type": "markdown",
   "metadata": {},
   "source": [
    "## Clear fact table, load incrementaly and run experiment 2"
   ]
  },
  {
   "cell_type": "code",
   "execution_count": null,
   "metadata": {},
   "outputs": [],
   "source": [
    "lineorder_path = get_hive_table_location(\"lineorder\")\n",
    "wr.s3.delete_objects(lineorder_path, use_threads=True)"
   ]
  },
  {
   "cell_type": "code",
   "execution_count": null,
   "metadata": {},
   "outputs": [],
   "source": [
    "\n",
    "for n in range(INCREMENTAL_DATASET_COUNT):\n",
    "    hive_table = get_hive_table_name(\"lineorder\")\n",
    "    incremental_table = get_raw_incremental_external_table_name(\"lineorder\",n)\n",
    "    query = f\"\"\"\n",
    "        INSERT INTO {hive_table} SELECT * FROM {incremental_table}\n",
    "    \"\"\"\n",
    "    \n",
    "    res = execute_query(query)"
   ]
  },
  {
   "cell_type": "code",
   "execution_count": null,
   "metadata": {},
   "outputs": [],
   "source": [
    "for run_number in range(NUM_QUERIES_TO_RUN):\n",
    "    METRICS[\"hive\"][\"queries_incremental\"][run_number] = {}\n",
    "    print(f\"Running query set:{run_number}\" )\n",
    "    for query_name, query in ssb_queries:\n",
    "        formatted_query = query.format(date_table = date_table, \n",
    "                                                supplier_table = supplier_table, \n",
    "                                                lineorder_table = lineorder_table,\n",
    "                                                part_table = part_table, \n",
    "                                                customer_table = customer_table)\n",
    "        \n",
    "        res = execute_query(formatted_query)\n",
    "\n",
    "        METRICS[\"hive\"][\"queries_incremental\"][run_number][query_name] = res"
   ]
  },
  {
   "cell_type": "markdown",
   "metadata": {},
   "source": [
    "## Create Iceberg tables"
   ]
  },
  {
   "cell_type": "code",
   "execution_count": null,
   "metadata": {},
   "outputs": [],
   "source": [
    "for table_name, query in CREATE_ICEBERG_TABLE_QUERIES.items():\n",
    "    full_table_name = get_iceberg_table_name(table_name)\n",
    "    table_location = get_iceberg_table_location(table_name)\n",
    "    formatted_query = query.format(table_name=full_table_name, location=table_location)\n",
    "    execute_query(formatted_query)\n",
    "    "
   ]
  },
  {
   "cell_type": "code",
   "execution_count": null,
   "metadata": {},
   "outputs": [],
   "source": [
    "\n",
    "for table in TABLE_NAMES:\n",
    "    iceberg_table = get_iceberg_table_name(table)\n",
    "    full_table = get_raw_full_external_table_name(table)\n",
    "    query = f\"\"\"\n",
    "        INSERT INTO {iceberg_table} SELECT * FROM {full_table}\n",
    "    \"\"\"\n",
    "        \n",
    "    res = execute_query(query)\n",
    "    METRICS[\"iceberg\"][\"load_full\"][table] = res\n",
    "        "
   ]
  },
  {
   "cell_type": "code",
   "execution_count": null,
   "metadata": {},
   "outputs": [],
   "source": [
    "date_table = get_iceberg_table_name(\"date\")\n",
    "supplier_table = get_iceberg_table_name(\"supplier\")\n",
    "lineorder_table = get_iceberg_table_name(\"lineorder\")\n",
    "part_table = get_iceberg_table_name(\"part\")\n",
    "customer_table = get_iceberg_table_name(\"customer\")"
   ]
  },
  {
   "cell_type": "code",
   "execution_count": null,
   "metadata": {},
   "outputs": [],
   "source": [
    "\n",
    "for run_number in range(NUM_QUERIES_TO_RUN):\n",
    "    METRICS[\"iceberg\"][\"queries_full\"][run_number] = {}\n",
    "    print(f\"Running query set:{run_number}\" )\n",
    "    for query_name, query in ssb_queries:\n",
    "        formatted_query = query.format(date_table = date_table, \n",
    "                                                supplier_table = supplier_table, \n",
    "                                                lineorder_table = lineorder_table,\n",
    "                                                part_table = part_table, \n",
    "                                                customer_table = customer_table)\n",
    "        \n",
    "        res = execute_query(formatted_query)\n",
    "\n",
    "        METRICS[\"iceberg\"][\"queries_full\"][run_number][query_name] = res"
   ]
  },
  {
   "cell_type": "markdown",
   "metadata": {},
   "source": [
    "## Clear fact table, load incrementaly and run experiment 2"
   ]
  },
  {
   "cell_type": "code",
   "execution_count": null,
   "metadata": {},
   "outputs": [],
   "source": [
    "iceberg_lineorder_location = get_iceberg_table_location(\"lineorder\")\n",
    "iceberg_lineorder_name = get_iceberg_table_name(\"lineorder\")\n",
    "wr.s3.delete_objects(lineorder_path, use_threads=True)\n",
    "execute_query(f\"DROP TABLE {iceberg_lineorder_name}\")\n",
    "\n",
    "query =  CREATE_ICEBERG_TABLE_QUERIES[\"lineorder\"]\n",
    "formatted_query = query.format(table_name=iceberg_lineorder_name, location=iceberg_lineorder_location)\n",
    "execute_query(formatted_query)"
   ]
  },
  {
   "cell_type": "code",
   "execution_count": null,
   "metadata": {},
   "outputs": [],
   "source": [
    "\n",
    "for n in range(INCREMENTAL_DATASET_COUNT):\n",
    "    iceberg_table = get_iceberg_table_name(\"lineorder\")\n",
    "    incremental_table = get_raw_incremental_external_table_name(\"lineorder\",n)\n",
    "    query = f\"\"\"\n",
    "        INSERT INTO {iceberg_table} SELECT * FROM {incremental_table}\n",
    "    \"\"\"\n",
    "    \n",
    "    res = execute_query(query)"
   ]
  },
  {
   "cell_type": "code",
   "execution_count": null,
   "metadata": {},
   "outputs": [],
   "source": [
    "for run_number in range(NUM_QUERIES_TO_RUN):\n",
    "    METRICS[\"iceberg\"][\"queries_incremental\"][run_number] = {}\n",
    "    print(f\"Running query set:{run_number}\" )\n",
    "    for query_name, query in ssb_queries:\n",
    "        formatted_query = query.format(date_table = date_table, \n",
    "                                                supplier_table = supplier_table, \n",
    "                                                lineorder_table = lineorder_table,\n",
    "                                                part_table = part_table, \n",
    "                                                customer_table = customer_table)\n",
    "        \n",
    "        res = execute_query(formatted_query)\n",
    "\n",
    "        METRICS[\"iceberg\"][\"queries_incremental\"][run_number][query_name] = res"
   ]
  },
  {
   "cell_type": "markdown",
   "metadata": {},
   "source": [
    "## Vacuum, OPTIMIZE and run experiment"
   ]
  },
  {
   "cell_type": "code",
   "execution_count": null,
   "metadata": {},
   "outputs": [],
   "source": [
    "execute_query(f\"OPTIMIZE {iceberg_lineorder_name} REWRITE DATA USING BIN_PACK\")\n",
    "execute_query(f\"VACUUM {iceberg_lineorder_name}\")"
   ]
  },
  {
   "cell_type": "code",
   "execution_count": null,
   "metadata": {},
   "outputs": [],
   "source": [
    "for run_number in range(NUM_QUERIES_TO_RUN):\n",
    "    METRICS[\"iceberg\"][\"queries_rewrite\"][run_number] = {}\n",
    "    print(f\"Running query set:{run_number}\" )\n",
    "    for query_name, query in ssb_queries:\n",
    "        formatted_query = query.format(date_table = date_table, \n",
    "                                                supplier_table = supplier_table, \n",
    "                                                lineorder_table = lineorder_table,\n",
    "                                                part_table = part_table, \n",
    "                                                customer_table = customer_table)\n",
    "        \n",
    "        res = execute_query(formatted_query)\n",
    "\n",
    "        METRICS[\"iceberg\"][\"queries_rewrite\"][run_number][query_name] = res"
   ]
  },
  {
   "cell_type": "markdown",
   "metadata": {},
   "source": [
    "## Output metrics to json"
   ]
  },
  {
   "cell_type": "code",
   "execution_count": null,
   "metadata": {},
   "outputs": [],
   "source": [
    "with open(f\"{SF}_metrics.json\", \"w\") as outfile: \n",
    "    json.dump(METRICS, outfile)"
   ]
  },
  {
   "cell_type": "code",
   "execution_count": null,
   "metadata": {},
   "outputs": [],
   "source": [
    "METRICS"
   ]
  }
 ],
 "metadata": {
  "kernelspec": {
   "display_name": "py311",
   "language": "python",
   "name": "python3"
  },
  "language_info": {
   "codemirror_mode": {
    "name": "ipython",
    "version": 3
   },
   "file_extension": ".py",
   "mimetype": "text/x-python",
   "name": "python",
   "nbconvert_exporter": "python",
   "pygments_lexer": "ipython3",
   "version": "3.11.5"
  }
 },
 "nbformat": 4,
 "nbformat_minor": 2
}
